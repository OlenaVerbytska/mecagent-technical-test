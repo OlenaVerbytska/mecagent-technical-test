{
 "cells": [
  {
   "cell_type": "code",
   "execution_count": 1,
   "id": "21bac548",
   "metadata": {},
   "outputs": [],
   "source": [
    "from datasets import load_dataset\n",
    "from PIL import Image\n",
    "import matplotlib.pyplot as plt\n",
    "import numpy as np\n",
    "from transformers import ViTImageProcessor, VisionEncoderDecoderModel\n",
    "import re\n",
    "from collections import Counter\n",
    "import torch\n",
    "from transformers import (\n",
    "    VisionEncoderDecoderModel, \n",
    "    ViTConfig, \n",
    "    GPT2Config,\n",
    "    ViTImageProcessor,\n",
    "    GPT2Tokenizer,\n",
    "    ViTModel,\n",
    "    GPT2LMHeadModel\n",
    ")\n",
    "from typing import List, Dict, Any\n",
    "from transformers import TrainingArguments, Trainer\n",
    "import os"
   ]
  },
  {
   "cell_type": "markdown",
   "id": "9f242489",
   "metadata": {},
   "source": [
    "# 1. Data\n"
   ]
  },
  {
   "cell_type": "markdown",
   "id": "5c898ad8",
   "metadata": {},
   "source": [
    "## Import"
   ]
  },
  {
   "cell_type": "code",
   "execution_count": 2,
   "id": "f8c92409",
   "metadata": {},
   "outputs": [],
   "source": [
    "ds = load_dataset(\"CADCODER/GenCAD-Code\", num_proc=16, split=[\"train\", \"test\"], cache_dir=\"/Volumes/BIG-DATA/HUGGINGFACE_CACHE\")"
   ]
  },
  {
   "cell_type": "markdown",
   "id": "d94be457",
   "metadata": {},
   "source": [
    "## Analysis"
   ]
  },
  {
   "cell_type": "code",
   "execution_count": 3,
   "id": "a2362028",
   "metadata": {},
   "outputs": [
    {
     "name": "stdout",
     "output_type": "stream",
     "text": [
      "{'image': Image(mode=None, decode=True, id=None), 'deepcad_id': Value(dtype='string', id=None), 'cadquery': Value(dtype='string', id=None), 'token_count': Value(dtype='int64', id=None), 'prompt': Value(dtype='string', id=None), 'hundred_subset': Value(dtype='bool', id=None)}\n",
      "147289 7355\n"
     ]
    },
    {
     "data": {
      "image/png": "[encoded data removed]",
      "text/plain": [
       "<Figure size 640x480 with 1 Axes>"
      ]
     },
     "metadata": {},
     "output_type": "display_data"
    },
    {
     "name": "stdout",
     "output_type": "stream",
     "text": [
      "0000/00001378\n",
      "_________________________\n",
      "import cadquery as cq\n",
      "# Generating a workplane for sketch 0\n",
      "wp_sketch0 = cq.Workplane(cq.Plane(cq.Vector(0.0, -0.1953125, 0.0), cq.Vector(1.0, 0.0, 0.0), cq.Vector(0.0, 0.0, 1.0)))\n",
      "loop0=wp_sketch0.moveTo(0.17730263157894738, 0.0).lineTo(0.17730263157894738, 0.38281250000000006).lineTo(0.0, 0.38281250000000006).lineTo(0.0, 0.0).close()\n",
      "solid0=wp_sketch0.add(loop0).extrude(0.3046875)\n",
      "solid=solid0\n",
      "# Generating a workplane for sketch 1\n",
      "wp_sketch1 = cq.Workplane(cq.Plane(cq.Vector(0.1796875, -0.109375, 0.0), cq.Vector(1.0, 0.0, 0.0), cq.Vector(0.0, 0.0, 1.0)))\n",
      "loop1=wp_sketch1.moveTo(0.3782072368421052, 0.0).lineTo(0.5703125, 0.1140625).lineTo(0.3782072368421052, 0.22212171052631577).lineTo(0.0, 0.22212171052631577).lineTo(0.0, 0.0).close()\n",
      "solid1=wp_sketch1.add(loop1).extrude(0.1796875)\n",
      "solid=solid.union(solid1)\n",
      "\n",
      "_________________________\n",
      "The number of characters: 821\n",
      "The number of tokens: 1195\n",
      "_________________________\n",
      "Generate the CADQuery code needed to create the CAD for the provided image. Just the code, no other words.\n",
      "_________________________\n",
      "False\n"
     ]
    }
   ],
   "source": [
    "train = ds[0]\n",
    "test = ds[1]\n",
    "print(train.features)\n",
    "print(len(train), len(test))\n",
    "\n",
    "example = train[1]\n",
    "img = example['image']\n",
    "plt.imshow(img)\n",
    "plt.axis('off')\n",
    "plt.show()\n",
    "print(example['deepcad_id'])\n",
    "print(\"_________________________\")\n",
    "print(example['cadquery'])\n",
    "print(\"_________________________\")\n",
    "print(\"The number of characters:\", len(example['cadquery']))\n",
    "print(\"The number of tokens:\", example['token_count'])\n",
    "print(\"_________________________\")\n",
    "print(example['prompt'])\n",
    "print(\"_________________________\")\n",
    "print(example['hundred_subset'])\n"
   ]
  },
  {
   "cell_type": "markdown",
   "id": "8047335c",
   "metadata": {},
   "source": [
    "The number of tokens is greater than number of characters in the query. More information about the tokenization is needed."
   ]
  },
  {
   "cell_type": "code",
   "execution_count": 4,
   "id": "ad2ebfd4",
   "metadata": {},
   "outputs": [
    {
     "name": "stdout",
     "output_type": "stream",
     "text": [
      "Number of unique prompts: 1\n",
      "All prompts are the same.\n"
     ]
    }
   ],
   "source": [
    "all_prompts = train['prompt'] + test['prompt']\n",
    "unique_prompts = set(all_prompts)\n",
    "print(f\"Number of unique prompts: {len(unique_prompts)}\")\n",
    "if len(unique_prompts) == 1:\n",
    "    print(\"All prompts are the same.\")\n",
    "else:\n",
    "    print(\"There are different prompts in the dataset.\")\n",
    "    print(\"Sample unique prompts:\", list(unique_prompts)[:5])"
   ]
  },
  {
   "cell_type": "code",
   "execution_count": 5,
   "id": "30615ef7",
   "metadata": {},
   "outputs": [
    {
     "name": "stdout",
     "output_type": "stream",
     "text": [
      "Unique image sizes: {(448, 448)}\n",
      "Total images: 1000\n"
     ]
    }
   ],
   "source": [
    "image_sizes = [img.size for img in train[:1000]['image']]\n",
    "unique_sizes = set(image_sizes)\n",
    "print(f\"Unique image sizes: {unique_sizes}\")\n",
    "print(f\"Total images: {len(image_sizes)}\")"
   ]
  },
  {
   "cell_type": "code",
   "execution_count": 6,
   "id": "71a894f5",
   "metadata": {},
   "outputs": [
    {
     "name": "stdout",
     "output_type": "stream",
     "text": [
      "Token count statistics:\n",
      "  Mean: 1257.47\n",
      "  Median: 1064.00\n",
      "  Min: 807\n",
      "  Max: 6495\n"
     ]
    }
   ],
   "source": [
    "# Token count statistics\n",
    "token_counts = train['token_count'] + test['token_count']\n",
    "print(f\"Token count statistics:\")\n",
    "print(f\"  Mean: {np.mean(token_counts):.2f}\")\n",
    "print(f\"  Median: {np.median(token_counts):.2f}\")\n",
    "print(f\"  Min: {np.min(token_counts)}\")\n",
    "print(f\"  Max: {np.max(token_counts)}\")"
   ]
  },
  {
   "cell_type": "code",
   "execution_count": 7,
   "id": "eaa969bf",
   "metadata": {},
   "outputs": [
    {
     "name": "stdout",
     "output_type": "stream",
     "text": [
      "\n",
      "CAD code length statistics:\n",
      "  Mean: 882.21 characters\n",
      "  Median: 605.00 characters\n",
      "  Min: 283 characters\n",
      "  Max: 8104 characters\n",
      "\n",
      "Hundred subset: 100 out of 154644 samples\n"
     ]
    }
   ],
   "source": [
    "# CAD code length analysis\n",
    "cad_lengths = [len(code) for code in train['cadquery'] + test['cadquery']]\n",
    "print(f\"\\nCAD code length statistics:\")\n",
    "print(f\"  Mean: {np.mean(cad_lengths):.2f} characters\")\n",
    "print(f\"  Median: {np.median(cad_lengths):.2f} characters\")\n",
    "print(f\"  Min: {np.min(cad_lengths)} characters\")\n",
    "print(f\"  Max: {np.max(cad_lengths)} characters\")\n",
    "\n",
    "# Check subset distribution\n",
    "subset_counts = sum(train['hundred_subset'] + test['hundred_subset'])\n",
    "print(f\"\\nHundred subset: {subset_counts} out of {len(train) + len(test)} samples\")"
   ]
  },
  {
   "cell_type": "markdown",
   "id": "ed502736",
   "metadata": {},
   "source": [
    "# 2. Baseline \n",
    "As I'm new to working directly with transformer models, I began by experimenting with a basic encoder-decoder architecture to validate the pipeline. Here, I used ViTModel as the image encoder and GPT-2 as the text decoder."
   ]
  },
  {
   "cell_type": "markdown",
   "id": "8b89f3b0",
   "metadata": {},
   "source": [
    "## CAD code generator\n",
    "\n",
    "We'll add CAD-specific tokens, because \n",
    "- CAD code has specific repetitive syntax \n",
    "- our dataset is large enough to benefit from it"
   ]
  },
  {
   "cell_type": "code",
   "execution_count": 8,
   "id": "1f0dfec5",
   "metadata": {},
   "outputs": [
    {
     "name": "stdout",
     "output_type": "stream",
     "text": [
      "Initializing CAD Code Generator...\n",
      "Generated 63 CAD-specific tokens\n",
      "['wp_sketch1 =', '.wire(', 'loop1=', 'wp_sketch0', '.close(', 'loop3', 'solid2', '# Generating a workplane for sketch 7', 'loop0', 'wp_sketch', '# Generating a workplane for sketch 3', '.cut(', 'import cadquery as cq', '# Generating a workplane for sketch 6', 'wp_sketch3', 'loop2', '.Plane(', '.extrude(', '.intersect(', '# workplane', '.rectangle(', '# Creating', '.union(', '# Generating a workplane for sketch 2', '.add(', 'solid', '# Generating a workplane for sketch 0', 'loop2=', 'solid1=', 'wp_sketch1', '# Generating a workplane for sketch 4', '.revolve(', 'solid=', '.solid(', '.Workplane(', 'cadquery', 'cq.Vector', '# sketch', '.circle(', 'loop0=', '.fillet(', '.moveTo(', '.face(', 'cq.Workplane', '.lineTo(', '.Vector(', 'cq.Plane', '.subtract(', 'wp_sketch2', '# Generating a workplane for sketch 1', 'cq', '# Generating', 'loop1', 'loop', '# Generating a workplane for sketch 5', '.chamfer(', 'result', '.threePointArc(', '# Generating a workplane for sketch 8', 'wp_sketch0 =', 'solid0=', 'solid0', 'solid1']\n"
     ]
    }
   ],
   "source": [
    "class CADCodeGenerator:\n",
    "    def __init__(self, cad_codes, vocab_size=None, max_length=1024):\n",
    "        self.max_length = max_length\n",
    "        \n",
    "        # Initialize tokenizer\n",
    "        self.tokenizer = GPT2Tokenizer.from_pretrained('gpt2')\n",
    "        self.tokenizer.pad_token = self.tokenizer.eos_token # needed for compatibility\n",
    "        \n",
    "        # CAD-specific tokens\n",
    "        def generate_cad_specific_tokens(cad_codes, min_frequency=10):\n",
    "            import_patterns = []\n",
    "            method_patterns = []\n",
    "            operation_patterns = []\n",
    "            variable_patterns = []\n",
    "            comment_patterns = []\n",
    "            \n",
    "            for code in cad_codes:\n",
    "                # Extract import statements\n",
    "                imports = re.findall(r'import\\s+\\w+(?:\\s+as\\s+\\w+)?', code)\n",
    "                import_patterns.extend(imports)\n",
    "                \n",
    "                # Extract CAD method calls (cq.something)\n",
    "                methods = re.findall(r'cq\\.\\w+', code)\n",
    "                method_patterns.extend(methods)\n",
    "                \n",
    "                # Extract function calls (.functionName())\n",
    "                function_calls = re.findall(r'\\.\\w+\\(', code)\n",
    "                operation_patterns.extend(function_calls)\n",
    "\n",
    "                # Extract variable names (wp_sketch, solid, loop)\n",
    "                variables = re.findall(r'\\b(?:wp_sketch|solid|loop)\\d*\\b', code)\n",
    "                variable_patterns.extend(variables)\n",
    "                \n",
    "                # Extract assignment patterns (variable = )\n",
    "                assignments = re.findall(r'\\b\\w+\\s*=', code)\n",
    "                variable_patterns.extend([a.strip() for a in assignments])\n",
    "                \n",
    "                # Extract comment keywords\n",
    "                comments = re.findall(r'#\\s*(\\w+(?:\\s+\\w+)*)\\s*$', code, re.MULTILINE)\n",
    "                comment_patterns.extend([f\"# {comment}\" for comment in comments])\n",
    "            \n",
    "            # Count frequencies\n",
    "            all_patterns = {\n",
    "                'imports': Counter(import_patterns),\n",
    "                'methods': Counter(method_patterns),\n",
    "                'operations': Counter(operation_patterns),\n",
    "                'variables': Counter(variable_patterns),\n",
    "                'comments': Counter(comment_patterns)\n",
    "            }\n",
    "            \n",
    "            # Collect high-frequency tokens\n",
    "            cad_tokens = []\n",
    "            \n",
    "            for _, counter in all_patterns.items():\n",
    "                frequent_tokens = [token for token, freq in counter.most_common(20) if freq >= min_frequency]\n",
    "                cad_tokens.extend(frequent_tokens)\n",
    "            \n",
    "            # Essential CAD tokens, even if not frequent\n",
    "            essential_tokens = [\n",
    "                # Core CAD imports\n",
    "                'import cadquery as cq',\n",
    "                'cadquery',\n",
    "                'cq',\n",
    "                \n",
    "                # Basic CAD objects\n",
    "                'cq.Workplane',\n",
    "                'cq.Plane',\n",
    "                'cq.Vector',\n",
    "                \n",
    "                # Common operations\n",
    "                '.moveTo(',\n",
    "                '.lineTo(',\n",
    "                '.circle(',\n",
    "                '.rectangle(',\n",
    "                '.extrude(',\n",
    "                '.revolve(',\n",
    "                '.union(',\n",
    "                '.cut(',\n",
    "                '.intersect(',\n",
    "                '.fillet(',\n",
    "                '.chamfer(',\n",
    "                \n",
    "                # 3D operations\n",
    "                '.add(',\n",
    "                '.subtract(',\n",
    "                '.threePointArc(',\n",
    "                '.close(',\n",
    "                '.wire(',\n",
    "                '.face(',\n",
    "                '.solid(',\n",
    "                \n",
    "                # Variable patterns\n",
    "                'wp_sketch',\n",
    "                'solid',\n",
    "                'loop',\n",
    "                'result',\n",
    "                \n",
    "                # Comments\n",
    "                '# Generating',\n",
    "                '# Creating',\n",
    "                '# sketch',\n",
    "                '# workplane',\n",
    "            ]\n",
    "\n",
    "            all_tokens = list(set(cad_tokens + essential_tokens))\n",
    "            return all_tokens\n",
    "\n",
    "\n",
    "        special_tokens = generate_cad_specific_tokens(cad_codes[:1000], min_frequency=5)\n",
    "        print(f\"Generated {len(special_tokens)} CAD-specific tokens\")\n",
    "        print(special_tokens)\n",
    "        self.tokenizer.add_special_tokens({'additional_special_tokens': special_tokens})\n",
    "        \n",
    "        # Update vocab size\n",
    "        vocab_size = len(self.tokenizer)\n",
    "        \n",
    "        # Configure Vision Encoder (ViT)\n",
    "        encoder_config = ViTConfig(\n",
    "            image_size=448,  # Based on the dataset analysis\n",
    "            patch_size=16,\n",
    "            num_channels=3,\n",
    "            hidden_size=768,\n",
    "            num_hidden_layers=12,\n",
    "            num_attention_heads=12,\n",
    "            intermediate_size=3072,\n",
    "        )\n",
    "        \n",
    "        # Configure Text Decoder (GPT2-based)\n",
    "        decoder_config = GPT2Config(\n",
    "            vocab_size=vocab_size,\n",
    "            n_positions=max_length,\n",
    "            n_embd=768,\n",
    "            n_layer=12,\n",
    "            n_head=12,\n",
    "            max_length=max_length,\n",
    "            pad_token_id=self.tokenizer.pad_token_id,\n",
    "            eos_token_id=self.tokenizer.eos_token_id,\n",
    "            bos_token_id=self.tokenizer.bos_token_id,\n",
    "add_cross_attention=True,  # Essential for vision-encoder-decoder\n",
    "            is_decoder=True,           # Enable decoder mode\n",
    "        )\n",
    "        \n",
    "        # Create the encoder and decoder models\n",
    "        encoder = ViTModel(encoder_config)\n",
    "        decoder = GPT2LMHeadModel(decoder_config)\n",
    "        \n",
    "        # Create Vision-Encoder-Decoder Model\n",
    "        self.model = VisionEncoderDecoderModel(encoder=encoder, decoder=decoder)\n",
    "        \n",
    "        # Configure generation parameters\n",
    "        self.model.config.decoder_start_token_id = self.tokenizer.bos_token_id\n",
    "        self.model.config.pad_token_id = self.tokenizer.pad_token_id\n",
    "        self.model.config.eos_token_id = self.tokenizer.eos_token_id\n",
    "        self.model.config.max_length = max_length\n",
    "        self.model.config.early_stopping = True\n",
    "        self.model.config.no_repeat_ngram_size = 3\n",
    "        self.model.config.length_penalty = 2.0\n",
    "        self.model.config.num_beams = 4\n",
    "        \n",
    "        # Image processor\n",
    "        self.image_processor = ViTImageProcessor(\n",
    "            size={\"height\": 448, \"width\": 448},\n",
    "            do_resize=True,\n",
    "            do_normalize=True,\n",
    "            image_mean=[0.485, 0.456, 0.406],\n",
    "            image_std=[0.229, 0.224, 0.225]\n",
    "        )\n",
    "        \n",
    "    def preprocess_data(self, examples):\n",
    "        \"\"\"Preprocess images and CAD code for training\"\"\"\n",
    "        # Process images\n",
    "        images = [img.convert('RGB') for img in examples['image']]\n",
    "        pixel_values = self.image_processor(images, return_tensors=\"pt\")['pixel_values'] \n",
    "        \n",
    "        # Tokenize CAD code\n",
    "        cad_codes = examples['cadquery']\n",
    "        tokenized = self.tokenizer(\n",
    "            cad_codes,\n",
    "            padding='max_length',\n",
    "            truncation=True,\n",
    "            max_length=self.max_length,\n",
    "            return_tensors=\"pt\"\n",
    "        )\n",
    "        \n",
    "        # Prepare labels \n",
    "        labels = tokenized['input_ids'].clone()\n",
    "        # Replace padding tokens with -100 (ignore in loss)\n",
    "        labels[labels == self.tokenizer.pad_token_id] = -100\n",
    "        \n",
    "        return {\n",
    "            'pixel_values': pixel_values,\n",
    "            'labels': labels,\n",
    "            'decoder_attention_mask': tokenized['attention_mask']\n",
    "        }\n",
    "    \n",
    "    def generate_cad_code(self, image, max_length=None):\n",
    "        \"\"\"Generate CAD code from an image\"\"\"\n",
    "        if max_length is None:\n",
    "            max_length = self.max_length\n",
    "            \n",
    "        # Preprocess image\n",
    "        if isinstance(image, str):\n",
    "            image = Image.open(image).convert('RGB')\n",
    "        \n",
    "        pixel_values = self.image_processor(image, return_tensors=\"pt\")['pixel_values']\n",
    "        \n",
    "        # Generate\n",
    "        with torch.no_grad():\n",
    "            generated_ids = self.model.generate(\n",
    "                pixel_values,\n",
    "                max_length=max_length,\n",
    "                num_beams=4,\n",
    "                early_stopping=True,\n",
    "                no_repeat_ngram_size=3,\n",
    "                length_penalty=2.0\n",
    "            )\n",
    "        \n",
    "        # Decode\n",
    "        generated_text = self.tokenizer.decode(generated_ids[0], skip_special_tokens=True)\n",
    "        return generated_text\n",
    "\n",
    "# Initialize the model\n",
    "print(\"Initializing CAD Code Generator...\")\n",
    "cad_generator = CADCodeGenerator(train['cadquery'][:10000])  # Use a sample of CAD codes for initialization"
   ]
  },
  {
   "cell_type": "markdown",
   "id": "57cc43c6",
   "metadata": {},
   "source": [
    "## Custom data collator\n",
    "\n",
    "We have to create a custom data collator, since HuggingFace's default collators are designed for homogeneous data types. In our case, we have tensors and strings which have to be preprocessed differently. CAD code requires proper padding, while images should be normalized.\n"
   ]
  },
  {
   "cell_type": "code",
   "execution_count": 9,
   "id": "c5482a58",
   "metadata": {},
   "outputs": [],
   "source": [
    "class CADDataCollator:    \n",
    "    def __init__(self, tokenizer, image_processor, max_length=1024):\n",
    "        self.tokenizer = tokenizer\n",
    "        self.image_processor = image_processor\n",
    "        self.max_length = max_length\n",
    "    \n",
    "    def __call__(self, batch: List[Dict[str, Any]]) -> Dict[str, torch.Tensor]:\n",
    "        # Extract images and CAD codes\n",
    "        images = [item['image'] for item in batch]\n",
    "        cad_codes = [item['cadquery'] for item in batch]\n",
    "        \n",
    "        # Process images (convert to RGB if needed)\n",
    "        rgb_images = [img.convert('RGB') if img.mode != 'RGB' else img for img in images]\n",
    "        \n",
    "        # Batch process images\n",
    "        image_inputs = self.image_processor(\n",
    "            rgb_images, \n",
    "            return_tensors=\"pt\"\n",
    "        )\n",
    "        pixel_values = image_inputs['pixel_values']\n",
    "        \n",
    "        # Tokenize CAD codes with padding\n",
    "        text_inputs = self.tokenizer(\n",
    "            cad_codes,\n",
    "            padding=True,  # Pad to longest in batch\n",
    "            truncation=True,\n",
    "            max_length=self.max_length,\n",
    "            return_tensors=\"pt\"\n",
    "        )\n",
    "        \n",
    "        # Prepare labels (shift right for causal LM)\n",
    "        labels = text_inputs['input_ids'].clone()\n",
    "        # Replace padding tokens with -100 (ignore in loss)\n",
    "        labels[labels == self.tokenizer.pad_token_id] = -100\n",
    "        \n",
    "        return {\n",
    "            'pixel_values': pixel_values,\n",
    "            'labels': labels,\n",
    "            'decoder_attention_mask': text_inputs['attention_mask']\n",
    "        }\n"
   ]
  },
  {
   "cell_type": "markdown",
   "id": "65f6e170",
   "metadata": {},
   "source": [
    "## Training on a subset \n"
   ]
  },
  {
   "cell_type": "code",
   "execution_count": 10,
   "id": "f9764bbb",
   "metadata": {},
   "outputs": [],
   "source": [
    "# Create output directory\n",
    "output_dir = \"./cad-model-checkpoints\"\n",
    "os.makedirs(output_dir, exist_ok=True)\n",
    "\n",
    "# Configure training arguments\n",
    "training_args = TrainingArguments(\n",
    "    output_dir=output_dir,\n",
    "    \n",
    "    # Learning & Optimization\n",
    "    learning_rate=5e-5,              # Conservative for vision-language\n",
    "    warmup_steps=500,                # Gradual warmup\n",
    "    weight_decay=0.01,               # Regularization\n",
    "    \n",
    "    # Batch & Memory Management  \n",
    "    per_device_train_batch_size=2,   # Small due to memory constraints\n",
    "    per_device_eval_batch_size=2,    \n",
    "    gradient_accumulation_steps=8,   # Effective batch size = 2*8 = 16\n",
    "    dataloader_num_workers=0,        # Start with 0, increase if stable\n",
    "    \n",
    "    # Training Schedule\n",
    "    num_train_epochs=3,              # Start with few epochs\n",
    "    max_steps=-1,                    # Use num_epochs instead\n",
    "    \n",
    "    # Evaluation & Saving\n",
    "    eval_strategy=\"steps\",           # Evaluate during training\n",
    "    eval_steps=500,                  # Every 500 steps\n",
    "    save_strategy=\"steps\",           # Save checkpoints regularly\n",
    "    save_steps=500,                  # Every 500 steps\n",
    "    save_total_limit=3,              # Keep only last 3 checkpoints\n",
    "    \n",
    "    # Monitoring & Debugging\n",
    "    logging_dir=f\"{output_dir}/logs\",\n",
    "    logging_steps=100,               # Log every 100 steps\n",
    "    report_to=None,                  # Disable wandb for now\n",
    "    \n",
    "    # Performance & Stability\n",
    "    fp16=True,                       # Mixed precision (if supported)\n",
    "    gradient_checkpointing=True,     # Trade compute for memory\n",
    "    \n",
    "    # Early Stopping & Best Model\n",
    "    load_best_model_at_end=True,     # Load best checkpoint at end\n",
    "    metric_for_best_model=\"eval_loss\",\n",
    "    greater_is_better=False,         # Lower loss is better\n",
    "\n",
    "    # Data Processing\n",
    "    remove_unused_columns=False,     # Keep all columns for custom data collator\n",
    "    \n",
    "    # Reproducibility\n",
    "    seed=42,\n",
    "    data_seed=42,\n",
    ")\n",
    "\n",
    "# Prepare subsets of datasets for training\n",
    "def create_dataset_splits(train_data, test_data, max_train_samples=1000, max_eval_samples=100):\n",
    "    \"\"\"Create smaller dataset splits for initial training/testing\"\"\"\n",
    "    \n",
    "    # Use subset for faster iteration during development\n",
    "    train_subset = train_data.select(range(min(max_train_samples, len(train_data))))\n",
    "    eval_subset = test_data.select(range(min(max_eval_samples, len(test_data))))\n",
    "    \n",
    "    return train_subset, eval_subset\n",
    "\n",
    "# Create dataset splits\n",
    "train_dataset, eval_dataset = create_dataset_splits(train, test)\n"
   ]
  },
  {
   "cell_type": "code",
   "execution_count": 11,
   "id": "373eb217",
   "metadata": {},
   "outputs": [
    {
     "name": "stderr",
     "output_type": "stream",
     "text": [
      "C:\\Users\\eleon\\AppData\\Local\\Temp\\ipykernel_16080\\3916487158.py:9: FutureWarning: `tokenizer` is deprecated and will be removed in version 5.0.0 for `Trainer.__init__`. Use `processing_class` instead.\n",
      "  trainer = Trainer(\n",
      "c:\\Users\\eleon\\anaconda3\\envs\\echo-env\\Lib\\site-packages\\torch\\utils\\data\\dataloader.py:665: UserWarning: 'pin_memory' argument is set as true but no accelerator is found, then device pinned memory won't be used.\n",
      "  warnings.warn(warn_msg)\n"
     ]
    },
    {
     "name": "stdout",
     "output_type": "stream",
     "text": [
      "Device cpu :')\n"
     ]
    },
    {
     "name": "stderr",
     "output_type": "stream",
     "text": [
      "`use_cache=True` is incompatible with gradient checkpointing. Setting `use_cache=False`...\n",
      "`loss_type=None` was set in the config but it is unrecognised.Using the default loss: `ForCausalLMLoss`.\n"
     ]
    },
    {
     "data": {
      "text/html": [
       "\n",
       "    <div>\n",
       "      \n",
       "      <progress value='2' max='189' style='width:300px; height:20px; vertical-align: middle;'></progress>\n",
       "      [  2/189 : < :, Epoch 0.02/3]\n",
       "    </div>\n",
       "    <table border=\"1\" class=\"dataframe\">\n",
       "  <thead>\n",
       " <tr style=\"text-align: left;\">\n",
       "      <th>Step</th>\n",
       "      <th>Training Loss</th>\n",
       "      <th>Validation Loss</th>\n",
       "    </tr>\n",
       "  </thead>\n",
       "  <tbody>\n",
       "  </tbody>\n",
       "</table><p>"
      ],
      "text/plain": [
       "<IPython.core.display.HTML object>"
      ]
     },
     "metadata": {},
     "output_type": "display_data"
    },
    {
     "ename": "KeyboardInterrupt",
     "evalue": "",
     "output_type": "error",
     "traceback": [
      "\u001b[1;31m---------------------------------------------------------------------------\u001b[0m",
      "\u001b[1;31mKeyboardInterrupt\u001b[0m                         Traceback (most recent call last)",
      "Cell \u001b[1;32mIn[11], line 21\u001b[0m\n\u001b[0;32m     18\u001b[0m device \u001b[38;5;241m=\u001b[39m torch\u001b[38;5;241m.\u001b[39mdevice(\u001b[38;5;124m\"\u001b[39m\u001b[38;5;124mcuda\u001b[39m\u001b[38;5;124m\"\u001b[39m \u001b[38;5;28;01mif\u001b[39;00m torch\u001b[38;5;241m.\u001b[39mcuda\u001b[38;5;241m.\u001b[39mis_available() \u001b[38;5;28;01melse\u001b[39;00m \u001b[38;5;124m\"\u001b[39m\u001b[38;5;124mcpu\u001b[39m\u001b[38;5;124m\"\u001b[39m)\n\u001b[0;32m     19\u001b[0m \u001b[38;5;28mprint\u001b[39m(\u001b[38;5;124mf\u001b[39m\u001b[38;5;124m\"\u001b[39m\u001b[38;5;124mDevice \u001b[39m\u001b[38;5;132;01m{\u001b[39;00mdevice\u001b[38;5;132;01m}\u001b[39;00m\u001b[38;5;124m :\u001b[39m\u001b[38;5;124m'\u001b[39m\u001b[38;5;124m)\u001b[39m\u001b[38;5;124m\"\u001b[39m)\n\u001b[1;32m---> 21\u001b[0m \u001b[43mtrainer\u001b[49m\u001b[38;5;241;43m.\u001b[39;49m\u001b[43mtrain\u001b[49m\u001b[43m(\u001b[49m\u001b[43m)\u001b[49m\n",
      "File \u001b[1;32mc:\\Users\\eleon\\anaconda3\\envs\\echo-env\\Lib\\site-packages\\transformers\\trainer.py:2207\u001b[0m, in \u001b[0;36mTrainer.train\u001b[1;34m(self, resume_from_checkpoint, trial, ignore_keys_for_eval, **kwargs)\u001b[0m\n\u001b[0;32m   2205\u001b[0m         hf_hub_utils\u001b[38;5;241m.\u001b[39menable_progress_bars()\n\u001b[0;32m   2206\u001b[0m \u001b[38;5;28;01melse\u001b[39;00m:\n\u001b[1;32m-> 2207\u001b[0m     \u001b[38;5;28;01mreturn\u001b[39;00m \u001b[43minner_training_loop\u001b[49m\u001b[43m(\u001b[49m\n\u001b[0;32m   2208\u001b[0m \u001b[43m        \u001b[49m\u001b[43margs\u001b[49m\u001b[38;5;241;43m=\u001b[39;49m\u001b[43margs\u001b[49m\u001b[43m,\u001b[49m\n\u001b[0;32m   2209\u001b[0m \u001b[43m        \u001b[49m\u001b[43mresume_from_checkpoint\u001b[49m\u001b[38;5;241;43m=\u001b[39;49m\u001b[43mresume_from_checkpoint\u001b[49m\u001b[43m,\u001b[49m\n\u001b[0;32m   2210\u001b[0m \u001b[43m        \u001b[49m\u001b[43mtrial\u001b[49m\u001b[38;5;241;43m=\u001b[39;49m\u001b[43mtrial\u001b[49m\u001b[43m,\u001b[49m\n\u001b[0;32m   2211\u001b[0m \u001b[43m        \u001b[49m\u001b[43mignore_keys_for_eval\u001b[49m\u001b[38;5;241;43m=\u001b[39;49m\u001b[43mignore_keys_for_eval\u001b[49m\u001b[43m,\u001b[49m\n\u001b[0;32m   2212\u001b[0m \u001b[43m    \u001b[49m\u001b[43m)\u001b[49m\n",
      "File \u001b[1;32mc:\\Users\\eleon\\anaconda3\\envs\\echo-env\\Lib\\site-packages\\transformers\\trainer.py:2549\u001b[0m, in \u001b[0;36mTrainer._inner_training_loop\u001b[1;34m(self, batch_size, args, resume_from_checkpoint, trial, ignore_keys_for_eval)\u001b[0m\n\u001b[0;32m   2542\u001b[0m context \u001b[38;5;241m=\u001b[39m (\n\u001b[0;32m   2543\u001b[0m     functools\u001b[38;5;241m.\u001b[39mpartial(\u001b[38;5;28mself\u001b[39m\u001b[38;5;241m.\u001b[39maccelerator\u001b[38;5;241m.\u001b[39mno_sync, model\u001b[38;5;241m=\u001b[39mmodel)\n\u001b[0;32m   2544\u001b[0m     \u001b[38;5;28;01mif\u001b[39;00m i \u001b[38;5;241m!=\u001b[39m \u001b[38;5;28mlen\u001b[39m(batch_samples) \u001b[38;5;241m-\u001b[39m \u001b[38;5;241m1\u001b[39m\n\u001b[0;32m   2545\u001b[0m     \u001b[38;5;129;01mand\u001b[39;00m \u001b[38;5;28mself\u001b[39m\u001b[38;5;241m.\u001b[39maccelerator\u001b[38;5;241m.\u001b[39mdistributed_type \u001b[38;5;241m!=\u001b[39m DistributedType\u001b[38;5;241m.\u001b[39mDEEPSPEED\n\u001b[0;32m   2546\u001b[0m     \u001b[38;5;28;01melse\u001b[39;00m contextlib\u001b[38;5;241m.\u001b[39mnullcontext\n\u001b[0;32m   2547\u001b[0m )\n\u001b[0;32m   2548\u001b[0m \u001b[38;5;28;01mwith\u001b[39;00m context():\n\u001b[1;32m-> 2549\u001b[0m     tr_loss_step \u001b[38;5;241m=\u001b[39m \u001b[38;5;28;43mself\u001b[39;49m\u001b[38;5;241;43m.\u001b[39;49m\u001b[43mtraining_step\u001b[49m\u001b[43m(\u001b[49m\u001b[43mmodel\u001b[49m\u001b[43m,\u001b[49m\u001b[43m \u001b[49m\u001b[43minputs\u001b[49m\u001b[43m,\u001b[49m\u001b[43m \u001b[49m\u001b[43mnum_items_in_batch\u001b[49m\u001b[43m)\u001b[49m\n\u001b[0;32m   2551\u001b[0m \u001b[38;5;28;01mif\u001b[39;00m (\n\u001b[0;32m   2552\u001b[0m     args\u001b[38;5;241m.\u001b[39mlogging_nan_inf_filter\n\u001b[0;32m   2553\u001b[0m     \u001b[38;5;129;01mand\u001b[39;00m \u001b[38;5;129;01mnot\u001b[39;00m is_torch_xla_available()\n\u001b[0;32m   2554\u001b[0m     \u001b[38;5;129;01mand\u001b[39;00m (torch\u001b[38;5;241m.\u001b[39misnan(tr_loss_step) \u001b[38;5;129;01mor\u001b[39;00m torch\u001b[38;5;241m.\u001b[39misinf(tr_loss_step))\n\u001b[0;32m   2555\u001b[0m ):\n\u001b[0;32m   2556\u001b[0m     \u001b[38;5;66;03m# if loss is nan or inf simply add the average of previous logged losses\u001b[39;00m\n\u001b[0;32m   2557\u001b[0m     tr_loss \u001b[38;5;241m=\u001b[39m tr_loss \u001b[38;5;241m+\u001b[39m tr_loss \u001b[38;5;241m/\u001b[39m (\u001b[38;5;241m1\u001b[39m \u001b[38;5;241m+\u001b[39m \u001b[38;5;28mself\u001b[39m\u001b[38;5;241m.\u001b[39mstate\u001b[38;5;241m.\u001b[39mglobal_step \u001b[38;5;241m-\u001b[39m \u001b[38;5;28mself\u001b[39m\u001b[38;5;241m.\u001b[39m_globalstep_last_logged)\n",
      "File \u001b[1;32mc:\\Users\\eleon\\anaconda3\\envs\\echo-env\\Lib\\site-packages\\transformers\\trainer.py:3798\u001b[0m, in \u001b[0;36mTrainer.training_step\u001b[1;34m(***failed resolving arguments***)\u001b[0m\n\u001b[0;32m   3795\u001b[0m \u001b[38;5;28;01mif\u001b[39;00m \u001b[38;5;28mself\u001b[39m\u001b[38;5;241m.\u001b[39maccelerator\u001b[38;5;241m.\u001b[39mdistributed_type \u001b[38;5;241m==\u001b[39m DistributedType\u001b[38;5;241m.\u001b[39mDEEPSPEED:\n\u001b[0;32m   3796\u001b[0m     kwargs[\u001b[38;5;124m\"\u001b[39m\u001b[38;5;124mscale_wrt_gas\u001b[39m\u001b[38;5;124m\"\u001b[39m] \u001b[38;5;241m=\u001b[39m \u001b[38;5;28;01mFalse\u001b[39;00m\n\u001b[1;32m-> 3798\u001b[0m \u001b[38;5;28;43mself\u001b[39;49m\u001b[38;5;241;43m.\u001b[39;49m\u001b[43maccelerator\u001b[49m\u001b[38;5;241;43m.\u001b[39;49m\u001b[43mbackward\u001b[49m\u001b[43m(\u001b[49m\u001b[43mloss\u001b[49m\u001b[43m,\u001b[49m\u001b[43m \u001b[49m\u001b[38;5;241;43m*\u001b[39;49m\u001b[38;5;241;43m*\u001b[39;49m\u001b[43mkwargs\u001b[49m\u001b[43m)\u001b[49m\n\u001b[0;32m   3800\u001b[0m \u001b[38;5;28;01mreturn\u001b[39;00m loss\u001b[38;5;241m.\u001b[39mdetach()\n",
      "File \u001b[1;32mc:\\Users\\eleon\\anaconda3\\envs\\echo-env\\Lib\\site-packages\\accelerate\\accelerator.py:2553\u001b[0m, in \u001b[0;36mAccelerator.backward\u001b[1;34m(self, loss, **kwargs)\u001b[0m\n\u001b[0;32m   2551\u001b[0m     \u001b[38;5;28mself\u001b[39m\u001b[38;5;241m.\u001b[39mlomo_backward(loss, learning_rate)\n\u001b[0;32m   2552\u001b[0m \u001b[38;5;28;01melse\u001b[39;00m:\n\u001b[1;32m-> 2553\u001b[0m     \u001b[43mloss\u001b[49m\u001b[38;5;241;43m.\u001b[39;49m\u001b[43mbackward\u001b[49m\u001b[43m(\u001b[49m\u001b[38;5;241;43m*\u001b[39;49m\u001b[38;5;241;43m*\u001b[39;49m\u001b[43mkwargs\u001b[49m\u001b[43m)\u001b[49m\n",
      "File \u001b[1;32mc:\\Users\\eleon\\anaconda3\\envs\\echo-env\\Lib\\site-packages\\torch\\_tensor.py:648\u001b[0m, in \u001b[0;36mTensor.backward\u001b[1;34m(self, gradient, retain_graph, create_graph, inputs)\u001b[0m\n\u001b[0;32m    638\u001b[0m \u001b[38;5;28;01mif\u001b[39;00m has_torch_function_unary(\u001b[38;5;28mself\u001b[39m):\n\u001b[0;32m    639\u001b[0m     \u001b[38;5;28;01mreturn\u001b[39;00m handle_torch_function(\n\u001b[0;32m    640\u001b[0m         Tensor\u001b[38;5;241m.\u001b[39mbackward,\n\u001b[0;32m    641\u001b[0m         (\u001b[38;5;28mself\u001b[39m,),\n\u001b[1;32m   (...)\u001b[0m\n\u001b[0;32m    646\u001b[0m         inputs\u001b[38;5;241m=\u001b[39minputs,\n\u001b[0;32m    647\u001b[0m     )\n\u001b[1;32m--> 648\u001b[0m \u001b[43mtorch\u001b[49m\u001b[38;5;241;43m.\u001b[39;49m\u001b[43mautograd\u001b[49m\u001b[38;5;241;43m.\u001b[39;49m\u001b[43mbackward\u001b[49m\u001b[43m(\u001b[49m\n\u001b[0;32m    649\u001b[0m \u001b[43m    \u001b[49m\u001b[38;5;28;43mself\u001b[39;49m\u001b[43m,\u001b[49m\u001b[43m \u001b[49m\u001b[43mgradient\u001b[49m\u001b[43m,\u001b[49m\u001b[43m \u001b[49m\u001b[43mretain_graph\u001b[49m\u001b[43m,\u001b[49m\u001b[43m \u001b[49m\u001b[43mcreate_graph\u001b[49m\u001b[43m,\u001b[49m\u001b[43m \u001b[49m\u001b[43minputs\u001b[49m\u001b[38;5;241;43m=\u001b[39;49m\u001b[43minputs\u001b[49m\n\u001b[0;32m    650\u001b[0m \u001b[43m\u001b[49m\u001b[43m)\u001b[49m\n",
      "File \u001b[1;32mc:\\Users\\eleon\\anaconda3\\envs\\echo-env\\Lib\\site-packages\\torch\\autograd\\__init__.py:353\u001b[0m, in \u001b[0;36mbackward\u001b[1;34m(tensors, grad_tensors, retain_graph, create_graph, grad_variables, inputs)\u001b[0m\n\u001b[0;32m    348\u001b[0m     retain_graph \u001b[38;5;241m=\u001b[39m create_graph\n\u001b[0;32m    350\u001b[0m \u001b[38;5;66;03m# The reason we repeat the same comment below is that\u001b[39;00m\n\u001b[0;32m    351\u001b[0m \u001b[38;5;66;03m# some Python versions print out the first line of a multi-line function\u001b[39;00m\n\u001b[0;32m    352\u001b[0m \u001b[38;5;66;03m# calls in the traceback and some print out the last line\u001b[39;00m\n\u001b[1;32m--> 353\u001b[0m \u001b[43m_engine_run_backward\u001b[49m\u001b[43m(\u001b[49m\n\u001b[0;32m    354\u001b[0m \u001b[43m    \u001b[49m\u001b[43mtensors\u001b[49m\u001b[43m,\u001b[49m\n\u001b[0;32m    355\u001b[0m \u001b[43m    \u001b[49m\u001b[43mgrad_tensors_\u001b[49m\u001b[43m,\u001b[49m\n\u001b[0;32m    356\u001b[0m \u001b[43m    \u001b[49m\u001b[43mretain_graph\u001b[49m\u001b[43m,\u001b[49m\n\u001b[0;32m    357\u001b[0m \u001b[43m    \u001b[49m\u001b[43mcreate_graph\u001b[49m\u001b[43m,\u001b[49m\n\u001b[0;32m    358\u001b[0m \u001b[43m    \u001b[49m\u001b[43minputs\u001b[49m\u001b[43m,\u001b[49m\n\u001b[0;32m    359\u001b[0m \u001b[43m    \u001b[49m\u001b[43mallow_unreachable\u001b[49m\u001b[38;5;241;43m=\u001b[39;49m\u001b[38;5;28;43;01mTrue\u001b[39;49;00m\u001b[43m,\u001b[49m\n\u001b[0;32m    360\u001b[0m \u001b[43m    \u001b[49m\u001b[43maccumulate_grad\u001b[49m\u001b[38;5;241;43m=\u001b[39;49m\u001b[38;5;28;43;01mTrue\u001b[39;49;00m\u001b[43m,\u001b[49m\n\u001b[0;32m    361\u001b[0m \u001b[43m\u001b[49m\u001b[43m)\u001b[49m\n",
      "File \u001b[1;32mc:\\Users\\eleon\\anaconda3\\envs\\echo-env\\Lib\\site-packages\\torch\\autograd\\graph.py:824\u001b[0m, in \u001b[0;36m_engine_run_backward\u001b[1;34m(t_outputs, *args, **kwargs)\u001b[0m\n\u001b[0;32m    822\u001b[0m     unregister_hooks \u001b[38;5;241m=\u001b[39m _register_logging_hooks_on_whole_graph(t_outputs)\n\u001b[0;32m    823\u001b[0m \u001b[38;5;28;01mtry\u001b[39;00m:\n\u001b[1;32m--> 824\u001b[0m     \u001b[38;5;28;01mreturn\u001b[39;00m \u001b[43mVariable\u001b[49m\u001b[38;5;241;43m.\u001b[39;49m\u001b[43m_execution_engine\u001b[49m\u001b[38;5;241;43m.\u001b[39;49m\u001b[43mrun_backward\u001b[49m\u001b[43m(\u001b[49m\u001b[43m  \u001b[49m\u001b[38;5;66;43;03m# Calls into the C++ engine to run the backward pass\u001b[39;49;00m\n\u001b[0;32m    825\u001b[0m \u001b[43m        \u001b[49m\u001b[43mt_outputs\u001b[49m\u001b[43m,\u001b[49m\u001b[43m \u001b[49m\u001b[38;5;241;43m*\u001b[39;49m\u001b[43margs\u001b[49m\u001b[43m,\u001b[49m\u001b[43m \u001b[49m\u001b[38;5;241;43m*\u001b[39;49m\u001b[38;5;241;43m*\u001b[39;49m\u001b[43mkwargs\u001b[49m\n\u001b[0;32m    826\u001b[0m \u001b[43m    \u001b[49m\u001b[43m)\u001b[49m  \u001b[38;5;66;03m# Calls into the C++ engine to run the backward pass\u001b[39;00m\n\u001b[0;32m    827\u001b[0m \u001b[38;5;28;01mfinally\u001b[39;00m:\n\u001b[0;32m    828\u001b[0m     \u001b[38;5;28;01mif\u001b[39;00m attach_logging_hooks:\n",
      "File \u001b[1;32mc:\\Users\\eleon\\anaconda3\\envs\\echo-env\\Lib\\site-packages\\torch\\autograd\\function.py:307\u001b[0m, in \u001b[0;36mBackwardCFunction.apply\u001b[1;34m(self, *args)\u001b[0m\n\u001b[0;32m    301\u001b[0m     \u001b[38;5;28;01mraise\u001b[39;00m \u001b[38;5;167;01mRuntimeError\u001b[39;00m(\n\u001b[0;32m    302\u001b[0m         \u001b[38;5;124m\"\u001b[39m\u001b[38;5;124mImplementing both \u001b[39m\u001b[38;5;124m'\u001b[39m\u001b[38;5;124mbackward\u001b[39m\u001b[38;5;124m'\u001b[39m\u001b[38;5;124m and \u001b[39m\u001b[38;5;124m'\u001b[39m\u001b[38;5;124mvjp\u001b[39m\u001b[38;5;124m'\u001b[39m\u001b[38;5;124m for a custom \u001b[39m\u001b[38;5;124m\"\u001b[39m\n\u001b[0;32m    303\u001b[0m         \u001b[38;5;124m\"\u001b[39m\u001b[38;5;124mFunction is not allowed. You should only implement one \u001b[39m\u001b[38;5;124m\"\u001b[39m\n\u001b[0;32m    304\u001b[0m         \u001b[38;5;124m\"\u001b[39m\u001b[38;5;124mof them.\u001b[39m\u001b[38;5;124m\"\u001b[39m\n\u001b[0;32m    305\u001b[0m     )\n\u001b[0;32m    306\u001b[0m user_fn \u001b[38;5;241m=\u001b[39m vjp_fn \u001b[38;5;28;01mif\u001b[39;00m vjp_fn \u001b[38;5;129;01mis\u001b[39;00m \u001b[38;5;129;01mnot\u001b[39;00m Function\u001b[38;5;241m.\u001b[39mvjp \u001b[38;5;28;01melse\u001b[39;00m backward_fn\n\u001b[1;32m--> 307\u001b[0m \u001b[38;5;28;01mreturn\u001b[39;00m \u001b[43muser_fn\u001b[49m\u001b[43m(\u001b[49m\u001b[38;5;28;43mself\u001b[39;49m\u001b[43m,\u001b[49m\u001b[43m \u001b[49m\u001b[38;5;241;43m*\u001b[39;49m\u001b[43margs\u001b[49m\u001b[43m)\u001b[49m\n",
      "File \u001b[1;32mc:\\Users\\eleon\\anaconda3\\envs\\echo-env\\Lib\\site-packages\\torch\\utils\\checkpoint.py:320\u001b[0m, in \u001b[0;36mCheckpointFunction.backward\u001b[1;34m(ctx, *args)\u001b[0m\n\u001b[0;32m    315\u001b[0m \u001b[38;5;28;01mif\u001b[39;00m \u001b[38;5;28mlen\u001b[39m(outputs_with_grad) \u001b[38;5;241m==\u001b[39m \u001b[38;5;241m0\u001b[39m:\n\u001b[0;32m    316\u001b[0m     \u001b[38;5;28;01mraise\u001b[39;00m \u001b[38;5;167;01mRuntimeError\u001b[39;00m(\n\u001b[0;32m    317\u001b[0m         \u001b[38;5;124m\"\u001b[39m\u001b[38;5;124mnone of output has requires_grad=True,\u001b[39m\u001b[38;5;124m\"\u001b[39m\n\u001b[0;32m    318\u001b[0m         \u001b[38;5;124m\"\u001b[39m\u001b[38;5;124m this checkpoint() is not necessary\u001b[39m\u001b[38;5;124m\"\u001b[39m\n\u001b[0;32m    319\u001b[0m     )\n\u001b[1;32m--> 320\u001b[0m \u001b[43mtorch\u001b[49m\u001b[38;5;241;43m.\u001b[39;49m\u001b[43mautograd\u001b[49m\u001b[38;5;241;43m.\u001b[39;49m\u001b[43mbackward\u001b[49m\u001b[43m(\u001b[49m\u001b[43moutputs_with_grad\u001b[49m\u001b[43m,\u001b[49m\u001b[43m \u001b[49m\u001b[43margs_with_grad\u001b[49m\u001b[43m)\u001b[49m\n\u001b[0;32m    321\u001b[0m grads \u001b[38;5;241m=\u001b[39m \u001b[38;5;28mtuple\u001b[39m(\n\u001b[0;32m    322\u001b[0m     inp\u001b[38;5;241m.\u001b[39mgrad \u001b[38;5;28;01mif\u001b[39;00m \u001b[38;5;28misinstance\u001b[39m(inp, torch\u001b[38;5;241m.\u001b[39mTensor) \u001b[38;5;28;01melse\u001b[39;00m \u001b[38;5;28;01mNone\u001b[39;00m\n\u001b[0;32m    323\u001b[0m     \u001b[38;5;28;01mfor\u001b[39;00m inp \u001b[38;5;129;01min\u001b[39;00m detached_inputs\n\u001b[0;32m    324\u001b[0m )\n\u001b[0;32m    326\u001b[0m \u001b[38;5;28;01mreturn\u001b[39;00m (\u001b[38;5;28;01mNone\u001b[39;00m, \u001b[38;5;28;01mNone\u001b[39;00m) \u001b[38;5;241m+\u001b[39m grads\n",
      "File \u001b[1;32mc:\\Users\\eleon\\anaconda3\\envs\\echo-env\\Lib\\site-packages\\torch\\autograd\\__init__.py:353\u001b[0m, in \u001b[0;36mbackward\u001b[1;34m(tensors, grad_tensors, retain_graph, create_graph, grad_variables, inputs)\u001b[0m\n\u001b[0;32m    348\u001b[0m     retain_graph \u001b[38;5;241m=\u001b[39m create_graph\n\u001b[0;32m    350\u001b[0m \u001b[38;5;66;03m# The reason we repeat the same comment below is that\u001b[39;00m\n\u001b[0;32m    351\u001b[0m \u001b[38;5;66;03m# some Python versions print out the first line of a multi-line function\u001b[39;00m\n\u001b[0;32m    352\u001b[0m \u001b[38;5;66;03m# calls in the traceback and some print out the last line\u001b[39;00m\n\u001b[1;32m--> 353\u001b[0m \u001b[43m_engine_run_backward\u001b[49m\u001b[43m(\u001b[49m\n\u001b[0;32m    354\u001b[0m \u001b[43m    \u001b[49m\u001b[43mtensors\u001b[49m\u001b[43m,\u001b[49m\n\u001b[0;32m    355\u001b[0m \u001b[43m    \u001b[49m\u001b[43mgrad_tensors_\u001b[49m\u001b[43m,\u001b[49m\n\u001b[0;32m    356\u001b[0m \u001b[43m    \u001b[49m\u001b[43mretain_graph\u001b[49m\u001b[43m,\u001b[49m\n\u001b[0;32m    357\u001b[0m \u001b[43m    \u001b[49m\u001b[43mcreate_graph\u001b[49m\u001b[43m,\u001b[49m\n\u001b[0;32m    358\u001b[0m \u001b[43m    \u001b[49m\u001b[43minputs\u001b[49m\u001b[43m,\u001b[49m\n\u001b[0;32m    359\u001b[0m \u001b[43m    \u001b[49m\u001b[43mallow_unreachable\u001b[49m\u001b[38;5;241;43m=\u001b[39;49m\u001b[38;5;28;43;01mTrue\u001b[39;49;00m\u001b[43m,\u001b[49m\n\u001b[0;32m    360\u001b[0m \u001b[43m    \u001b[49m\u001b[43maccumulate_grad\u001b[49m\u001b[38;5;241;43m=\u001b[39;49m\u001b[38;5;28;43;01mTrue\u001b[39;49;00m\u001b[43m,\u001b[49m\n\u001b[0;32m    361\u001b[0m \u001b[43m\u001b[49m\u001b[43m)\u001b[49m\n",
      "File \u001b[1;32mc:\\Users\\eleon\\anaconda3\\envs\\echo-env\\Lib\\site-packages\\torch\\autograd\\graph.py:824\u001b[0m, in \u001b[0;36m_engine_run_backward\u001b[1;34m(t_outputs, *args, **kwargs)\u001b[0m\n\u001b[0;32m    822\u001b[0m     unregister_hooks \u001b[38;5;241m=\u001b[39m _register_logging_hooks_on_whole_graph(t_outputs)\n\u001b[0;32m    823\u001b[0m \u001b[38;5;28;01mtry\u001b[39;00m:\n\u001b[1;32m--> 824\u001b[0m     \u001b[38;5;28;01mreturn\u001b[39;00m \u001b[43mVariable\u001b[49m\u001b[38;5;241;43m.\u001b[39;49m\u001b[43m_execution_engine\u001b[49m\u001b[38;5;241;43m.\u001b[39;49m\u001b[43mrun_backward\u001b[49m\u001b[43m(\u001b[49m\u001b[43m  \u001b[49m\u001b[38;5;66;43;03m# Calls into the C++ engine to run the backward pass\u001b[39;49;00m\n\u001b[0;32m    825\u001b[0m \u001b[43m        \u001b[49m\u001b[43mt_outputs\u001b[49m\u001b[43m,\u001b[49m\u001b[43m \u001b[49m\u001b[38;5;241;43m*\u001b[39;49m\u001b[43margs\u001b[49m\u001b[43m,\u001b[49m\u001b[43m \u001b[49m\u001b[38;5;241;43m*\u001b[39;49m\u001b[38;5;241;43m*\u001b[39;49m\u001b[43mkwargs\u001b[49m\n\u001b[0;32m    826\u001b[0m \u001b[43m    \u001b[49m\u001b[43m)\u001b[49m  \u001b[38;5;66;03m# Calls into the C++ engine to run the backward pass\u001b[39;00m\n\u001b[0;32m    827\u001b[0m \u001b[38;5;28;01mfinally\u001b[39;00m:\n\u001b[0;32m    828\u001b[0m     \u001b[38;5;28;01mif\u001b[39;00m attach_logging_hooks:\n",
      "\u001b[1;31mKeyboardInterrupt\u001b[0m: "
     ]
    }
   ],
   "source": [
    "# Create the data collator\n",
    "data_collator = CADDataCollator(\n",
    "    tokenizer=cad_generator.tokenizer,\n",
    "    image_processor=cad_generator.image_processor,\n",
    "    max_length=512\n",
    ")\n",
    "\n",
    "# Initialize the Trainer with corrected model\n",
    "trainer = Trainer(\n",
    "    model=cad_generator.model,\n",
    "    args=training_args,\n",
    "    train_dataset=train_dataset,\n",
    "    eval_dataset=eval_dataset,\n",
    "    data_collator=data_collator,\n",
    "    tokenizer=cad_generator.tokenizer,\n",
    ")\n",
    "\n",
    "device = torch.device(\"cuda\" if torch.cuda.is_available() else \"cpu\")\n",
    "print(f\"Device {device} :')\")\n",
    "\n",
    "trainer.train()\n"
   ]
  },
  {
   "cell_type": "markdown",
   "id": "f35020ad",
   "metadata": {},
   "source": [
    "## After training\n",
    "I would evaluate Valid Syntax Rate and Best IOU, as suggested.\n",
    "Also I wonder if we could apply some standard computer vision techniques for evaluation. For example, consider the substraction result of the ground truth and the image that is generated from the predicted code. It might work, if the original images are generated from some code.\n"
   ]
  },
  {
   "cell_type": "markdown",
   "id": "bcd04f19",
   "metadata": {},
   "source": [
    "# How can I improve the baseline?\n",
    "\n",
    "1. I can use a CNN pretrained on a large dataset and fine-tune it to obtain a better image encoder. Additionally, it’s possible to combine features from different layers of the ViT model.\n",
    "2. For the decoder, I can experiment with larger language models and study CAD code patterns more thoroughly.\n",
    "3. I can explore more effective cross-attention mechanisms between the vision and text modalities.\n",
    "4. I could also design a custom multi-objective loss function, similar to those used in YOLO models.\n",
    "5. There's more, but I ran out of time :)"
   ]
  },
  {
   "cell_type": "markdown",
   "id": "eee1d99d",
   "metadata": {},
   "source": [
    "# To read later\n",
    "\n",
    "- https://arxiv.org/pdf/2105.09492\n",
    "- https://arxiv.org/pdf/2503.23062"
   ]
  }
 ],
 "metadata": {
  "kernelspec": {
   "display_name": "echo-env",
   "language": "python",
   "name": "python3"
  },
  "language_info": {
   "codemirror_mode": {
    "name": "ipython",
    "version": 3
   },
   "file_extension": ".py",
   "mimetype": "text/x-python",
   "name": "python",
   "nbconvert_exporter": "python",
   "pygments_lexer": "ipython3",
   "version": "3.12.4"
  }
 },
 "nbformat": 4,
 "nbformat_minor": 5
}
